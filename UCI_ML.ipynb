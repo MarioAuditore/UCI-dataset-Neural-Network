{
  "nbformat": 4,
  "nbformat_minor": 0,
  "metadata": {
    "colab": {
      "name": "UCI ML.ipynb",
      "provenance": [],
      "collapsed_sections": [],
      "include_colab_link": true
    },
    "kernelspec": {
      "display_name": "Python 3",
      "name": "python3"
    }
  },
  "cells": [
    {
      "cell_type": "markdown",
      "metadata": {
        "id": "view-in-github",
        "colab_type": "text"
      },
      "source": [
        "<a href=\"https://colab.research.google.com/github/MarioAuditore/UCI-dataset-Neural-Network/blob/main/UCI_ML.ipynb\" target=\"_parent\"><img src=\"https://colab.research.google.com/assets/colab-badge.svg\" alt=\"Open In Colab\"/></a>"
      ]
    },
    {
      "cell_type": "code",
      "metadata": {
        "id": "PYnahILyF7Wu"
      },
      "source": [
        "import pandas\n",
        "import matplotlib \n",
        "from matplotlib import pyplot as plt\n",
        "import numpy as np\n",
        "from keras.models import Sequential\n",
        "from keras.layers.core import Dense,Activation, Dropout\n",
        "from keras.optimizers import Adam\n",
        "from keras.utils import np_utils\n",
        "from sklearn import preprocessing\n",
        "from sklearn.preprocessing import MinMaxScaler\n",
        "from sklearn.utils import shuffle\n",
        "from sklearn import model_selection"
      ],
      "execution_count": null,
      "outputs": []
    },
    {
      "cell_type": "code",
      "metadata": {
        "id": "eKONIMuJRXXy"
      },
      "source": [
        "my_epoch = 20\n",
        "my_classes = 5\n",
        "my_batch_size = 128\n",
        "val_split = 0.2\n",
        "#sgd = SGD(lr=0.01, nesterov=True);"
      ],
      "execution_count": null,
      "outputs": []
    },
    {
      "cell_type": "code",
      "metadata": {
        "colab": {
          "base_uri": "https://localhost:8080/"
        },
        "id": "pxUKbnqDJFfk",
        "outputId": "7d25124e-7517-42d7-960b-03832b35f600"
      },
      "source": [
        "headers = ['age','sex','cp','trestbps','chol','fbs','restecg','thalach','exang','oldpeak','slope','ca','thal','num_the predicted attribute']\n",
        "print(len(headers))\n",
        "Data = pandas.read_table('https://archive.ics.uci.edu/ml/machine-learning-databases/heart-disease/processed.cleveland.data', sep=',', names=headers ,parse_dates=True, delim_whitespace=False)\n",
        "#Data = Data.to_numpy\n",
        "'''for names in headers:\n",
        "  Data[names].replace('?',np.nan,inplace=True)'''\n",
        "#Data = pandas.DataFrame(pandas.np.random.random(270))\n",
        "Data = Data[~Data.isin(['?'])]\n",
        "Data = Data.dropna(axis=0)       #выкидываем ряды с пропусками\n",
        "Data = Data.apply(pandas.to_numeric)\n",
        "\n",
        "#Data = Data.shuffle(100).repeat().batch(10)\n",
        "#Data.shuffle(buffer_size=5).repeat().batch(3)\n",
        "print (Data)"
      ],
      "execution_count": null,
      "outputs": [
        {
          "output_type": "stream",
          "text": [
            "14\n",
            "      age  sex   cp  trestbps  ...  slope   ca  thal  num_the predicted attribute\n",
            "0    63.0  1.0  1.0     145.0  ...    3.0  0.0   6.0                            0\n",
            "1    67.0  1.0  4.0     160.0  ...    2.0  3.0   3.0                            2\n",
            "2    67.0  1.0  4.0     120.0  ...    2.0  2.0   7.0                            1\n",
            "3    37.0  1.0  3.0     130.0  ...    3.0  0.0   3.0                            0\n",
            "4    41.0  0.0  2.0     130.0  ...    1.0  0.0   3.0                            0\n",
            "..    ...  ...  ...       ...  ...    ...  ...   ...                          ...\n",
            "297  57.0  0.0  4.0     140.0  ...    2.0  0.0   7.0                            1\n",
            "298  45.0  1.0  1.0     110.0  ...    2.0  0.0   7.0                            1\n",
            "299  68.0  1.0  4.0     144.0  ...    2.0  2.0   7.0                            2\n",
            "300  57.0  1.0  4.0     130.0  ...    2.0  1.0   7.0                            3\n",
            "301  57.0  0.0  2.0     130.0  ...    2.0  1.0   3.0                            1\n",
            "\n",
            "[297 rows x 14 columns]\n"
          ],
          "name": "stdout"
        }
      ]
    },
    {
      "cell_type": "code",
      "metadata": {
        "id": "zDz69FPekGtF",
        "colab": {
          "base_uri": "https://localhost:8080/"
        },
        "outputId": "c1b0d9f4-b936-4b74-d518-5b0a85b15657"
      },
      "source": [
        "#если нам надо будет нормировать данные, сделаем это здесь\n",
        "# Normalize data\n",
        "\n",
        "x = Data.values #returns a numpy array\n",
        "min_max_scaler = preprocessing.MinMaxScaler()\n",
        "x_scaled = min_max_scaler.fit_transform(x)\n",
        "Data = pandas.DataFrame(x_scaled)\n",
        "Data = shuffle(Data)\n",
        "print (Data)"
      ],
      "execution_count": null,
      "outputs": [
        {
          "output_type": "stream",
          "text": [
            "           0    1         2         3   ...   10        11    12    13\n",
            "221  0.708333  0.0  1.000000  0.132075  ...  0.5  0.666667  0.00  0.25\n",
            "182  0.645833  0.0  1.000000  0.603774  ...  0.0  0.000000  0.00  0.25\n",
            "206  0.687500  0.0  1.000000  0.528302  ...  0.5  0.000000  0.00  0.25\n",
            "110  0.562500  1.0  1.000000  0.292453  ...  0.5  0.333333  0.00  0.25\n",
            "287  0.312500  1.0  1.000000  0.245283  ...  1.0  0.000000  0.75  0.50\n",
            "..        ...  ...       ...       ...  ...  ...       ...   ...   ...\n",
            "219  0.208333  0.0  0.666667  0.000000  ...  0.0  0.000000  0.00  0.00\n",
            "126  0.520833  1.0  1.000000  0.150943  ...  0.5  0.333333  1.00  0.75\n",
            "240  0.666667  1.0  0.000000  0.377358  ...  0.5  0.666667  0.00  0.50\n",
            "73   0.750000  1.0  1.000000  0.150943  ...  0.0  0.666667  0.75  0.25\n",
            "22   0.604167  1.0  0.333333  0.245283  ...  0.5  0.000000  0.00  0.25\n",
            "\n",
            "[297 rows x 14 columns]\n"
          ],
          "name": "stdout"
        }
      ]
    },
    {
      "cell_type": "code",
      "metadata": {
        "colab": {
          "base_uri": "https://localhost:8080/"
        },
        "id": "WpXHF1O2PtKk",
        "outputId": "c21ff4e9-b4f2-4156-c580-76acce759731"
      },
      "source": [
        "#берем из датасета столбцы и гоним в numpy.ndarray, как в keras\n",
        "rows_num = len(Data.index) \n",
        "columns_num = len(Data.columns)\n",
        "x_train = Data.iloc[:260, :13].to_numpy()\n",
        "print(x_train)\n",
        "y_train = Data.iloc[:260, 13:].to_numpy().reshape(-1)\n",
        "print(y_train)\n",
        "\n",
        "x_test = Data.iloc[260:, :13].to_numpy()\n",
        "print(x_test)\n",
        "y_test = Data.iloc[260:, 13:].to_numpy().reshape(-1)\n",
        "print(y_test)"
      ],
      "execution_count": null,
      "outputs": [
        {
          "output_type": "stream",
          "text": [
            "[[0.70833333 0.         1.         ... 0.5        0.66666667 0.        ]\n",
            " [0.64583333 0.         1.         ... 0.         0.         0.        ]\n",
            " [0.6875     0.         1.         ... 0.5        0.         0.        ]\n",
            " ...\n",
            " [0.58333333 1.         1.         ... 0.5        1.         1.        ]\n",
            " [0.45833333 0.         1.         ... 0.5        0.         1.        ]\n",
            " [0.83333333 1.         0.         ... 0.5        0.33333333 0.        ]]\n",
            "[0.25 0.25 0.25 0.25 0.5  0.   0.   0.   0.   0.25 0.   0.   1.   0.\n",
            " 0.25 0.   0.   0.5  0.   0.5  0.   0.   0.75 0.   0.5  0.25 0.   0.75\n",
            " 0.25 0.   0.   0.   0.   0.   0.5  0.   0.25 0.25 0.   0.5  0.5  0.\n",
            " 0.5  0.   0.   0.25 0.75 0.   0.   0.25 0.   0.   0.5  0.75 0.   0.5\n",
            " 0.5  0.5  0.75 0.5  0.25 1.   0.25 0.75 0.   0.25 0.   0.   0.   0.\n",
            " 0.   0.75 0.   0.25 0.5  0.   0.5  0.   0.   0.25 0.25 0.75 0.25 0.\n",
            " 0.   0.   0.5  0.5  0.25 0.   0.25 0.25 0.   0.   0.   1.   0.   0.25\n",
            " 0.   0.25 0.   0.75 0.   0.25 0.   0.   0.   0.   0.   0.   0.   0.\n",
            " 0.75 0.   0.75 0.   0.   0.75 0.75 0.25 0.25 0.25 0.25 0.   0.   0.\n",
            " 0.   0.   0.   0.   0.   0.   0.25 0.25 0.25 0.   0.   0.75 0.   0.\n",
            " 0.75 0.5  0.   0.   0.25 0.   0.5  0.5  0.5  0.   0.75 0.   0.5  1.\n",
            " 0.5  0.   0.   0.   0.   0.   0.5  0.   1.   0.   0.   0.   0.5  0.\n",
            " 0.   0.   0.   0.   0.75 0.5  0.75 0.5  0.   0.25 0.   0.   0.   0.\n",
            " 0.   0.   1.   0.   0.75 0.   0.   0.   0.   0.5  0.75 0.   0.   0.75\n",
            " 0.   0.   0.25 0.   0.25 0.25 0.   0.   0.25 0.   0.   1.   0.25 0.\n",
            " 0.   0.   0.   0.25 0.75 0.   0.   0.25 0.   0.5  0.   0.   1.   0.\n",
            " 0.5  0.25 0.   1.   0.75 0.75 0.5  0.   0.   1.   1.   0.75 0.   0.25\n",
            " 0.25 0.   0.   0.   0.   0.   0.   0.   0.   0.   0.25 0.75 0.75 0.\n",
            " 0.   0.25 0.25 0.25 0.   1.   0.5  0.  ]\n",
            "[[0.5        1.         0.66666667 0.33962264 0.16210046 1.\n",
            "  1.         0.61832061 0.         0.19354839 1.         0.\n",
            "  0.        ]\n",
            " [0.58333333 1.         1.         0.1509434  0.17123288 0.\n",
            "  0.         0.41984733 1.         0.24193548 0.5        0.\n",
            "  0.75      ]\n",
            " [0.4375     0.         0.33333333 0.24528302 0.26940639 0.\n",
            "  0.         0.69465649 0.         0.17741935 0.         0.\n",
            "  0.        ]\n",
            " [0.875      0.         0.66666667 0.1509434  0.3173516  1.\n",
            "  1.         0.45038168 0.         0.         0.         0.33333333\n",
            "  0.        ]\n",
            " [0.60416667 0.         1.         0.33962264 0.16210046 0.\n",
            "  0.         0.45801527 0.         0.09677419 0.5        0.\n",
            "  0.        ]\n",
            " [0.125      0.         1.         0.41509434 0.13013699 0.\n",
            "  0.         0.84732824 0.         0.22580645 0.         0.\n",
            "  0.        ]\n",
            " [0.375      1.         0.66666667 0.41509434 0.29908676 0.\n",
            "  1.         0.64885496 0.         0.         0.         0.\n",
            "  0.        ]\n",
            " [0.6875     0.         0.66666667 0.33962264 0.31278539 0.\n",
            "  0.         0.19847328 0.         0.19354839 0.5        0.33333333\n",
            "  1.        ]\n",
            " [0.39583333 1.         1.         0.28301887 0.33789954 0.\n",
            "  1.         0.72519084 0.         0.08064516 0.5        0.\n",
            "  1.        ]\n",
            " [0.79166667 0.         1.         0.11320755 0.22146119 0.\n",
            "  0.         0.54198473 0.         0.0483871  0.         0.66666667\n",
            "  0.        ]\n",
            " [0.60416667 1.         0.66666667 0.10377358 0.26027397 0.\n",
            "  1.         0.63358779 1.         0.09677419 0.5        0.\n",
            "  1.        ]\n",
            " [0.5        1.         1.         0.27358491 0.35616438 0.\n",
            "  0.         0.18320611 1.         0.32258065 0.5        0.66666667\n",
            "  1.        ]\n",
            " [0.45833333 1.         1.         0.43396226 0.39269406 0.\n",
            "  0.         0.38931298 1.         0.67741935 0.5        1.\n",
            "  1.        ]\n",
            " [0.27083333 1.         0.66666667 0.24528302 0.26027397 1.\n",
            "  0.         0.9389313  0.         0.12903226 1.         0.\n",
            "  1.        ]\n",
            " [0.58333333 0.         1.         0.43396226 0.26255708 0.\n",
            "  0.         0.39694656 1.         0.03225806 0.5        0.\n",
            "  1.        ]\n",
            " [0.4375     1.         1.         0.52830189 0.26712329 0.\n",
            "  1.         0.4351145  0.         0.41935484 0.5        0.\n",
            "  1.        ]\n",
            " [0.6875     0.         1.         0.43396226 0.61187215 0.\n",
            "  1.         0.65648855 0.         0.19354839 0.5        0.\n",
            "  0.        ]\n",
            " [0.5625     0.         1.         1.         0.36986301 1.\n",
            "  1.         0.47328244 1.         0.64516129 1.         0.66666667\n",
            "  1.        ]\n",
            " [0.6875     0.         1.         0.43396226 0.32420091 0.\n",
            "  1.         0.67938931 0.         0.58064516 1.         0.66666667\n",
            "  0.        ]\n",
            " [0.52083333 0.         0.66666667 0.38679245 0.40639269 1.\n",
            "  0.         0.75572519 0.         0.         0.         0.\n",
            "  0.        ]\n",
            " [0.52083333 0.         0.66666667 0.13207547 0.32191781 0.\n",
            "  1.         0.73282443 0.         0.         0.         0.\n",
            "  0.        ]\n",
            " [0.47916667 1.         0.33333333 0.37735849 0.17123288 0.\n",
            "  0.         0.66412214 0.         0.12903226 0.         0.33333333\n",
            "  0.        ]\n",
            " [0.8125     1.         0.66666667 0.22641509 0.34474886 0.\n",
            "  0.         0.61068702 0.         0.16129032 0.         0.33333333\n",
            "  1.        ]\n",
            " [0.52083333 1.         1.         0.28301887 0.3196347  0.\n",
            "  1.         0.29007634 1.         0.35483871 0.5        0.33333333\n",
            "  1.        ]\n",
            " [0.4375     1.         1.         0.47169811 0.16894977 0.\n",
            "  1.         0.41984733 1.         0.14516129 0.5        0.\n",
            "  1.        ]\n",
            " [0.66666667 0.         1.         0.48113208 0.41324201 0.\n",
            "  1.         0.57251908 1.         0.16129032 0.5        0.\n",
            "  1.        ]\n",
            " [0.625      1.         0.33333333 0.43396226 0.21689498 0.\n",
            "  0.         0.70992366 1.         0.         0.         0.\n",
            "  0.        ]\n",
            " [0.25       1.         1.         0.1509434  0.10502283 0.\n",
            "  1.         0.66412214 0.         0.         0.         0.\n",
            "  1.        ]\n",
            " [0.58333333 1.         1.         0.35849057 0.18493151 0.\n",
            "  0.         0.74045802 1.         0.         0.         0.\n",
            "  1.        ]\n",
            " [0.22916667 1.         1.         0.1509434  0.09360731 0.\n",
            "  1.         0.32824427 1.         0.32258065 0.5        0.\n",
            "  1.        ]\n",
            " [0.52083333 1.         1.         0.24528302 0.14155251 0.\n",
            "  0.         0.32061069 0.         0.22580645 0.5        0.33333333\n",
            "  1.        ]\n",
            " [0.20833333 0.         0.66666667 0.41509434 0.21461187 0.\n",
            "  0.         0.61832061 0.         0.         0.5        0.\n",
            "  0.        ]\n",
            " [0.20833333 0.         0.66666667 0.         0.16666667 0.\n",
            "  0.         0.82442748 0.         0.         0.         0.\n",
            "  0.        ]\n",
            " [0.52083333 1.         1.         0.1509434  0.25799087 0.\n",
            "  0.         0.41984733 1.         0.4516129  0.5        0.33333333\n",
            "  1.        ]\n",
            " [0.66666667 1.         0.         0.37735849 0.24657534 0.\n",
            "  0.         0.5648855  0.         0.41935484 0.5        0.66666667\n",
            "  0.        ]\n",
            " [0.75       1.         1.         0.1509434  0.27853881 0.\n",
            "  1.         0.66412214 0.         0.09677419 0.         0.66666667\n",
            "  0.75      ]\n",
            " [0.60416667 1.         0.33333333 0.24528302 0.36073059 0.\n",
            "  1.         0.67938931 0.         0.29032258 0.5        0.\n",
            "  0.        ]]\n",
            "[0.   0.   0.   0.   0.   0.   0.   0.5  0.75 0.   0.   0.75 0.75 0.\n",
            " 0.25 1.   0.   0.75 0.75 0.   0.   0.   0.   0.25 0.75 0.25 0.   0.25\n",
            " 0.   0.75 0.5  0.   0.   0.75 0.5  0.25 0.25]\n"
          ],
          "name": "stdout"
        }
      ]
    },
    {
      "cell_type": "code",
      "metadata": {
        "id": "ErlPGEEmoem0",
        "colab": {
          "base_uri": "https://localhost:8080/"
        },
        "outputId": "afdc3b32-f181-4b63-a22c-a0cbf5a0ce1a"
      },
      "source": [
        "x_train = x_train.astype('float32')#работаем с float\n",
        "x_test = x_test.astype('float32')\n",
        "\n",
        "y_train = np_utils.to_categorical(y_train, my_classes)\n",
        "y_test = np_utils.to_categorical(y_test, my_classes)\n",
        "print(x_train)\n",
        "print(x_test)"
      ],
      "execution_count": null,
      "outputs": [
        {
          "output_type": "stream",
          "text": [
            "[[0.7083333  0.         1.         ... 0.5        0.6666667  0.        ]\n",
            " [0.6458333  0.         1.         ... 0.         0.         0.        ]\n",
            " [0.6875     0.         1.         ... 0.5        0.         0.        ]\n",
            " ...\n",
            " [0.5833333  1.         1.         ... 0.5        1.         1.        ]\n",
            " [0.45833334 0.         1.         ... 0.5        0.         1.        ]\n",
            " [0.8333333  1.         0.         ... 0.5        0.33333334 0.        ]]\n",
            "[[0.5        1.         0.6666667  0.33962265 0.16210045 1.\n",
            "  1.         0.6183206  0.         0.19354838 1.         0.\n",
            "  0.        ]\n",
            " [0.5833333  1.         1.         0.1509434  0.17123288 0.\n",
            "  0.         0.41984734 1.         0.24193548 0.5        0.\n",
            "  0.75      ]\n",
            " [0.4375     0.         0.33333334 0.24528302 0.26940638 0.\n",
            "  0.         0.6946565  0.         0.17741935 0.         0.\n",
            "  0.        ]\n",
            " [0.875      0.         0.6666667  0.1509434  0.3173516  1.\n",
            "  1.         0.45038167 0.         0.         0.         0.33333334\n",
            "  0.        ]\n",
            " [0.6041667  0.         1.         0.33962265 0.16210045 0.\n",
            "  0.         0.45801526 0.         0.09677419 0.5        0.\n",
            "  0.        ]\n",
            " [0.125      0.         1.         0.41509435 0.13013698 0.\n",
            "  0.         0.84732825 0.         0.22580644 0.         0.\n",
            "  0.        ]\n",
            " [0.375      1.         0.6666667  0.41509435 0.29908675 0.\n",
            "  1.         0.648855   0.         0.         0.         0.\n",
            "  0.        ]\n",
            " [0.6875     0.         0.6666667  0.33962265 0.3127854  0.\n",
            "  0.         0.19847329 0.         0.19354838 0.5        0.33333334\n",
            "  1.        ]\n",
            " [0.39583334 1.         1.         0.28301886 0.33789954 0.\n",
            "  1.         0.7251908  0.         0.08064516 0.5        0.\n",
            "  1.        ]\n",
            " [0.7916667  0.         1.         0.11320755 0.22146119 0.\n",
            "  0.         0.54198474 0.         0.0483871  0.         0.6666667\n",
            "  0.        ]\n",
            " [0.6041667  1.         0.6666667  0.10377359 0.26027396 0.\n",
            "  1.         0.6335878  1.         0.09677419 0.5        0.\n",
            "  1.        ]\n",
            " [0.5        1.         1.         0.2735849  0.3561644  0.\n",
            "  0.         0.18320611 1.         0.32258064 0.5        0.6666667\n",
            "  1.        ]\n",
            " [0.45833334 1.         1.         0.43396226 0.39269406 0.\n",
            "  0.         0.38931298 1.         0.67741936 0.5        1.\n",
            "  1.        ]\n",
            " [0.27083334 1.         0.6666667  0.24528302 0.26027396 1.\n",
            "  0.         0.9389313  0.         0.12903225 1.         0.\n",
            "  1.        ]\n",
            " [0.5833333  0.         1.         0.43396226 0.2625571  0.\n",
            "  0.         0.39694658 1.         0.03225806 0.5        0.\n",
            "  1.        ]\n",
            " [0.4375     1.         1.         0.5283019  0.26712328 0.\n",
            "  1.         0.4351145  0.         0.41935483 0.5        0.\n",
            "  1.        ]\n",
            " [0.6875     0.         1.         0.43396226 0.61187214 0.\n",
            "  1.         0.65648854 0.         0.19354838 0.5        0.\n",
            "  0.        ]\n",
            " [0.5625     0.         1.         1.         0.369863   1.\n",
            "  1.         0.47328246 1.         0.6451613  1.         0.6666667\n",
            "  1.        ]\n",
            " [0.6875     0.         1.         0.43396226 0.3242009  0.\n",
            "  1.         0.6793893  0.         0.58064514 1.         0.6666667\n",
            "  0.        ]\n",
            " [0.5208333  0.         0.6666667  0.38679245 0.4063927  1.\n",
            "  0.         0.7557252  0.         0.         0.         0.\n",
            "  0.        ]\n",
            " [0.5208333  0.         0.6666667  0.13207547 0.3219178  0.\n",
            "  1.         0.73282444 0.         0.         0.         0.\n",
            "  0.        ]\n",
            " [0.47916666 1.         0.33333334 0.3773585  0.17123288 0.\n",
            "  0.         0.66412216 0.         0.12903225 0.         0.33333334\n",
            "  0.        ]\n",
            " [0.8125     1.         0.6666667  0.2264151  0.34474885 0.\n",
            "  0.         0.610687   0.         0.16129032 0.         0.33333334\n",
            "  1.        ]\n",
            " [0.5208333  1.         1.         0.28301886 0.3196347  0.\n",
            "  1.         0.29007635 1.         0.3548387  0.5        0.33333334\n",
            "  1.        ]\n",
            " [0.4375     1.         1.         0.4716981  0.16894977 0.\n",
            "  1.         0.41984734 1.         0.14516129 0.5        0.\n",
            "  1.        ]\n",
            " [0.6666667  0.         1.         0.4811321  0.413242   0.\n",
            "  1.         0.57251906 1.         0.16129032 0.5        0.\n",
            "  1.        ]\n",
            " [0.625      1.         0.33333334 0.43396226 0.21689498 0.\n",
            "  0.         0.7099237  1.         0.         0.         0.\n",
            "  0.        ]\n",
            " [0.25       1.         1.         0.1509434  0.10502283 0.\n",
            "  1.         0.66412216 0.         0.         0.         0.\n",
            "  1.        ]\n",
            " [0.5833333  1.         1.         0.35849056 0.1849315  0.\n",
            "  0.         0.740458   1.         0.         0.         0.\n",
            "  1.        ]\n",
            " [0.22916667 1.         1.         0.1509434  0.09360731 0.\n",
            "  1.         0.32824427 1.         0.32258064 0.5        0.\n",
            "  1.        ]\n",
            " [0.5208333  1.         1.         0.24528302 0.14155251 0.\n",
            "  0.         0.32061067 0.         0.22580644 0.5        0.33333334\n",
            "  1.        ]\n",
            " [0.20833333 0.         0.6666667  0.41509435 0.21461187 0.\n",
            "  0.         0.6183206  0.         0.         0.5        0.\n",
            "  0.        ]\n",
            " [0.20833333 0.         0.6666667  0.         0.16666667 0.\n",
            "  0.         0.8244275  0.         0.         0.         0.\n",
            "  0.        ]\n",
            " [0.5208333  1.         1.         0.1509434  0.25799087 0.\n",
            "  0.         0.41984734 1.         0.4516129  0.5        0.33333334\n",
            "  1.        ]\n",
            " [0.6666667  1.         0.         0.3773585  0.24657534 0.\n",
            "  0.         0.5648855  0.         0.41935483 0.5        0.6666667\n",
            "  0.        ]\n",
            " [0.75       1.         1.         0.1509434  0.27853882 0.\n",
            "  1.         0.66412216 0.         0.09677419 0.         0.6666667\n",
            "  0.75      ]\n",
            " [0.6041667  1.         0.33333334 0.24528302 0.3607306  0.\n",
            "  1.         0.6793893  0.         0.29032257 0.5        0.\n",
            "  0.        ]]\n"
          ],
          "name": "stdout"
        }
      ]
    },
    {
      "cell_type": "code",
      "metadata": {
        "colab": {
          "base_uri": "https://localhost:8080/"
        },
        "id": "nW5mnxtVkXUg",
        "outputId": "863272ab-5bbd-4ea3-a5e1-106f3feebb9b"
      },
      "source": [
        "UCImodel = Sequential()\n",
        "UCImodel.add(Dense(32, input_shape = (13, )))\n",
        "UCImodel.add(Activation ('relu'))\n",
        "#UCImodel.add(Dropout(0.1))\n",
        "\n",
        "UCImodel.add(Dense(32))\n",
        "UCImodel.add(Activation ('relu'))\n",
        "UCImodel.add(Dropout(0.1))\n",
        "\n",
        "UCImodel.add(Dense(16))\n",
        "UCImodel.add(Activation ('relu'))\n",
        "#UCImodel.add(Dropout(0.1))\n",
        "\n",
        "\n",
        "UCImodel.add(Dense(my_classes))\n",
        "UCImodel.add(Activation ('softmax'))\n",
        "UCImodel.summary()\n",
        "\n",
        "\n"
      ],
      "execution_count": null,
      "outputs": [
        {
          "output_type": "stream",
          "text": [
            "Model: \"sequential_21\"\n",
            "_________________________________________________________________\n",
            "Layer (type)                 Output Shape              Param #   \n",
            "=================================================================\n",
            "dense_71 (Dense)             (None, 32)                448       \n",
            "_________________________________________________________________\n",
            "activation_71 (Activation)   (None, 32)                0         \n",
            "_________________________________________________________________\n",
            "dense_72 (Dense)             (None, 32)                1056      \n",
            "_________________________________________________________________\n",
            "activation_72 (Activation)   (None, 32)                0         \n",
            "_________________________________________________________________\n",
            "dropout_23 (Dropout)         (None, 32)                0         \n",
            "_________________________________________________________________\n",
            "dense_73 (Dense)             (None, 16)                528       \n",
            "_________________________________________________________________\n",
            "activation_73 (Activation)   (None, 16)                0         \n",
            "_________________________________________________________________\n",
            "dense_74 (Dense)             (None, 5)                 85        \n",
            "_________________________________________________________________\n",
            "activation_74 (Activation)   (None, 5)                 0         \n",
            "=================================================================\n",
            "Total params: 2,117\n",
            "Trainable params: 2,117\n",
            "Non-trainable params: 0\n",
            "_________________________________________________________________\n"
          ],
          "name": "stdout"
        }
      ]
    },
    {
      "cell_type": "code",
      "metadata": {
        "colab": {
          "base_uri": "https://localhost:8080/"
        },
        "id": "EokkIgybtoRZ",
        "outputId": "6d53c1d1-179f-4379-b8db-7b643dda56d9"
      },
      "source": [
        "UCImodel.compile(loss = 'categorical_crossentropy',\n",
        "                 optimizer = 'adam',\n",
        "                 metrics = ['accuracy'],\n",
        "                 )\n",
        "history = UCImodel.fit(x_train,\n",
        "                    y_train,\n",
        "                    batch_size = my_batch_size,\n",
        "                    epochs = my_epoch,\n",
        "                    validation_split=0.3)\n",
        "                   #shuffle=True)"
      ],
      "execution_count": null,
      "outputs": [
        {
          "output_type": "stream",
          "text": [
            "Epoch 1/20\n",
            "2/2 [==============================] - 0s 95ms/step - loss: 1.7443 - accuracy: 0.0000e+00 - val_loss: 1.7069 - val_accuracy: 0.0000e+00\n",
            "Epoch 2/20\n",
            "2/2 [==============================] - 0s 13ms/step - loss: 1.6962 - accuracy: 0.0000e+00 - val_loss: 1.6654 - val_accuracy: 0.0128\n",
            "Epoch 3/20\n",
            "2/2 [==============================] - 0s 11ms/step - loss: 1.6544 - accuracy: 0.0110 - val_loss: 1.6269 - val_accuracy: 0.0128\n",
            "Epoch 4/20\n",
            "2/2 [==============================] - 0s 14ms/step - loss: 1.6146 - accuracy: 0.0440 - val_loss: 1.5911 - val_accuracy: 0.0769\n",
            "Epoch 5/20\n",
            "2/2 [==============================] - 0s 11ms/step - loss: 1.5743 - accuracy: 0.1154 - val_loss: 1.5577 - val_accuracy: 0.1923\n",
            "Epoch 6/20\n",
            "2/2 [==============================] - 0s 13ms/step - loss: 1.5423 - accuracy: 0.2912 - val_loss: 1.5261 - val_accuracy: 0.4744\n",
            "Epoch 7/20\n",
            "2/2 [==============================] - 0s 11ms/step - loss: 1.5071 - accuracy: 0.5495 - val_loss: 1.4951 - val_accuracy: 0.6410\n",
            "Epoch 8/20\n",
            "2/2 [==============================] - 0s 14ms/step - loss: 1.4689 - accuracy: 0.7198 - val_loss: 1.4637 - val_accuracy: 0.7564\n",
            "Epoch 9/20\n",
            "2/2 [==============================] - 0s 12ms/step - loss: 1.4367 - accuracy: 0.8352 - val_loss: 1.4306 - val_accuracy: 0.8590\n",
            "Epoch 10/20\n",
            "2/2 [==============================] - 0s 12ms/step - loss: 1.4015 - accuracy: 0.9066 - val_loss: 1.3943 - val_accuracy: 0.9103\n",
            "Epoch 11/20\n",
            "2/2 [==============================] - 0s 13ms/step - loss: 1.3560 - accuracy: 0.9341 - val_loss: 1.3553 - val_accuracy: 0.9103\n",
            "Epoch 12/20\n",
            "2/2 [==============================] - 0s 13ms/step - loss: 1.3087 - accuracy: 0.9615 - val_loss: 1.3124 - val_accuracy: 0.9103\n",
            "Epoch 13/20\n",
            "2/2 [==============================] - 0s 12ms/step - loss: 1.2646 - accuracy: 0.9670 - val_loss: 1.2662 - val_accuracy: 0.9103\n",
            "Epoch 14/20\n",
            "2/2 [==============================] - 0s 11ms/step - loss: 1.2116 - accuracy: 0.9670 - val_loss: 1.2164 - val_accuracy: 0.9103\n",
            "Epoch 15/20\n",
            "2/2 [==============================] - 0s 13ms/step - loss: 1.1502 - accuracy: 0.9725 - val_loss: 1.1631 - val_accuracy: 0.9103\n",
            "Epoch 16/20\n",
            "2/2 [==============================] - 0s 12ms/step - loss: 1.0978 - accuracy: 0.9725 - val_loss: 1.1077 - val_accuracy: 0.9103\n",
            "Epoch 17/20\n",
            "2/2 [==============================] - 0s 12ms/step - loss: 1.0382 - accuracy: 0.9725 - val_loss: 1.0501 - val_accuracy: 0.9103\n",
            "Epoch 18/20\n",
            "2/2 [==============================] - 0s 11ms/step - loss: 0.9586 - accuracy: 0.9725 - val_loss: 0.9906 - val_accuracy: 0.9103\n",
            "Epoch 19/20\n",
            "2/2 [==============================] - 0s 14ms/step - loss: 0.9041 - accuracy: 0.9725 - val_loss: 0.9300 - val_accuracy: 0.9103\n",
            "Epoch 20/20\n",
            "2/2 [==============================] - 0s 11ms/step - loss: 0.8126 - accuracy: 0.9725 - val_loss: 0.8699 - val_accuracy: 0.9103\n"
          ],
          "name": "stdout"
        }
      ]
    },
    {
      "cell_type": "code",
      "metadata": {
        "colab": {
          "base_uri": "https://localhost:8080/"
        },
        "id": "1egLXaX3uI1b",
        "outputId": "3c8321a3-174e-48cd-c6fd-8990fe88a6c4"
      },
      "source": [
        "print(\"Testing\")\n",
        "score = UCImodel.evaluate(x_test,y_test,batch_size = my_batch_size,verbose = 1)\n",
        "print(\"\\nTest score:\", score[0])\n",
        "print('Test accuracy:', score[1])"
      ],
      "execution_count": null,
      "outputs": [
        {
          "output_type": "stream",
          "text": [
            "Testing\n",
            "1/1 [==============================] - 0s 2ms/step - loss: 0.7477 - accuracy: 0.9730\n",
            "\n",
            "Test score: 0.7477461099624634\n",
            "Test accuracy: 0.9729729890823364\n"
          ],
          "name": "stdout"
        }
      ]
    },
    {
      "cell_type": "code",
      "metadata": {
        "colab": {
          "base_uri": "https://localhost:8080/",
          "height": 591
        },
        "id": "KN9JSO017ulN",
        "outputId": "d1c3ce7b-15cc-46ed-c477-16812e78c7a0"
      },
      "source": [
        "print(history.history.keys())\n",
        "# summarize history for accuracy\n",
        "plt.plot(history.history['accuracy'])\n",
        "plt.title('model accuracy')\n",
        "plt.ylabel('accuracy')\n",
        "plt.xlabel('epoch')\n",
        "plt.legend(['train', 'test'], loc='upper left')\n",
        "plt.show()\n",
        "# summarize history for loss\n",
        "plt.plot(history.history['loss'])\n",
        "plt.plot(history.history['val_loss'])\n",
        "plt.title('model loss')\n",
        "plt.ylabel('loss')\n",
        "plt.xlabel('epoch')\n",
        "plt.legend(['train', 'test'], loc='upper left')\n",
        "plt.show()"
      ],
      "execution_count": null,
      "outputs": [
        {
          "output_type": "stream",
          "text": [
            "dict_keys(['loss', 'accuracy', 'val_loss', 'val_accuracy'])\n"
          ],
          "name": "stdout"
        },
        {
          "output_type": "display_data",
          "data": {
            "image/png": "[encoded data removed]",
            "text/plain": [
              "<Figure size 432x288 with 1 Axes>"
            ]
          },
          "metadata": {
            "tags": [],
            "needs_background": "light"
          }
        },
        {
          "output_type": "display_data",
          "data": {
            "image/png": "[encoded data removed]",
            "text/plain": [
              "<Figure size 432x288 with 1 Axes>"
            ]
          },
          "metadata": {
            "tags": [],
            "needs_background": "light"
          }
        }
      ]
    }
  ]
}